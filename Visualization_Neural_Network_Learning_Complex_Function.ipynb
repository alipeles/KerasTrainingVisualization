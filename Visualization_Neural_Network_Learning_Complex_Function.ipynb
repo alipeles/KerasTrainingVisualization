{
 "cells": [
  {
   "cell_type": "markdown",
   "metadata": {},
   "source": [
    "![alt text](./images/TrainingANN.png \"Image produced by callback\")\n"
   ]
  },
  {
   "cell_type": "markdown",
   "metadata": {},
   "source": [
    "## Keras Training Visualization\n",
    "\n",
    "This notebook uses a Keras callback and Matplotlib to display an animated graph of a model being trained.<br />\n",
    "\n",
    "The model trained is a multi-layer neural network. The callback function in the cell titled \"Function that draws and updates the graph\" is generic and can be used for any neural network. The key limitations are that it's only for a single input and single output.<br />\n",
    "\n",
    "The basic strategy is to create a hook after each mini-batch training. The callback runs the model on the dataset and plots the results and (if desired) the current mean squared error.<br />"
   ]
  },
  {
   "cell_type": "markdown",
   "metadata": {},
   "source": [
    "### Import Requirements\n",
    "Note that this uses qt5 for display, not inline. It is possible to do animation inline, but it's a bit more limiting."
   ]
  },
  {
   "cell_type": "code",
   "execution_count": 1,
   "metadata": {
    "collapsed": true
   },
   "outputs": [],
   "source": [
    "import numpy as np\n",
    "import pandas as pd\n",
    "%matplotlib qt5\n",
    "import matplotlib.pyplot as plt"
   ]
  },
  {
   "cell_type": "markdown",
   "metadata": {},
   "source": [
    "### Create Data\n",
    "\n",
    "This is a toy dataset made to show how a neural network can fit complex functions."
   ]
  },
  {
   "cell_type": "code",
   "execution_count": 2,
   "metadata": {
    "collapsed": true,
    "scrolled": false
   },
   "outputs": [],
   "source": [
    "# evenly spaced input values\n",
    "x = np.linspace(0, 12, 10000).reshape(-1,1)\n",
    "\n",
    "# function that maps features to labels\n",
    "def f(x):\n",
    "    # zero, then sin for a bit, then zero again\n",
    "    if x < np.pi:\n",
    "        return 0\n",
    "    elif x < 3 * np.pi:\n",
    "        return np.sin(x)\n",
    "    else:\n",
    "        return 0\n",
    "\n",
    "# map the labels onto the features\n",
    "y = np.array([f(v) for v in x]).reshape(-1)\n",
    "\n",
    "# create labels that are normally distributed around the curve\n",
    "noise = np.random.randn(len(y)) * 0.5\n",
    "\n",
    "features = x\n",
    "labels = y + noise"
   ]
  },
  {
   "cell_type": "markdown",
   "metadata": {},
   "source": [
    "## Take a quick look at the function and dataset created"
   ]
  },
  {
   "cell_type": "code",
   "execution_count": 3,
   "metadata": {},
   "outputs": [
    {
     "data": {
      "text/plain": [
       "<matplotlib.collections.PathCollection at 0x1114a5b00>"
      ]
     },
     "execution_count": 3,
     "metadata": {},
     "output_type": "execute_result"
    }
   ],
   "source": [
    "plt.figure(figsize=(15, 10))\n",
    "plt.ylim(-2.5, 2.5)\n",
    "plt.plot(x, y, lw=3)\n",
    "plt.scatter(features, labels, s=1, alpha=0.5, c='gray')"
   ]
  },
  {
   "cell_type": "markdown",
   "metadata": {},
   "source": [
    "### Split into test and training datasets"
   ]
  },
  {
   "cell_type": "code",
   "execution_count": 4,
   "metadata": {
    "collapsed": true
   },
   "outputs": [],
   "source": [
    "from sklearn.model_selection import train_test_split\n",
    "\n",
    "X_train, X_test, y_train, y_test = train_test_split(features.reshape(-1, 1), labels, random_state=42)"
   ]
  },
  {
   "cell_type": "markdown",
   "metadata": {},
   "source": [
    "## Import function that draws and updates the graph\n",
    "\n",
    "See kerviz.py for the code.\n",
    "\n",
    "The callback function should be run *on_batch_end*. It determines whether an update is necessary and redraws the graph, displaying related data, as well.<br />\n",
    "\n",
    "The enclosing function does some set up and creates a closure with the data that will be retained between calls or that needs to be known in advance, because keras passes very little information to the callback.<br />\n",
    "\n",
    "This function should be reusable for graphing any single-input single-output model in Keras. I have used it, e.g., for multi-layer neural networks.<br />\n",
    "\n",
    "Expect this to be *super slow*. Especially for simple models, the cost of running and graphing the model will be significantly higher than the cost of training on a single batch. You will get warnings from Keras about slowness.<br />\n",
    "\n",
    "This is a toy for learning / investigating. So, performance is not a primary concern, but you do want it to be usable. Several things can have a big impact on performance.<br />\n",
    "<ol>\n",
    "<li>The **sparsity** options reduce the number datapoints used in the scatter plot and in running the model on each pass.</li>\n",
    "<li>The **frequency** option determines how often to update the graph. I've used the function option to update only when the change to the model parameters is big enough to justify an update. But, it's specific to the model being trained.</li>\n",
    "<li>Turning off the **loss display** slightly reduces the number of computations, but significantly reduces the amount of drawing.</li>\n",
    "</ol>\n",
    "\n",
    "There is also an option to write the updates to files as individual images, which can then be used to create an animation."
   ]
  },
  {
   "cell_type": "code",
   "execution_count": 5,
   "metadata": {},
   "outputs": [],
   "source": [
    "from kerviz import get_redraw"
   ]
  },
  {
   "cell_type": "markdown",
   "metadata": {},
   "source": [
    "## Create and compile the model"
   ]
  },
  {
   "cell_type": "code",
   "execution_count": 8,
   "metadata": {},
   "outputs": [],
   "source": [
    "from keras.models import Sequential\n",
    "from keras.layers import Dense\n",
    "\n",
    "model = Sequential()\n",
    "model.add(Dense(200, input_dim=features.shape[1], activation='relu'))\n",
    "model.add(Dense(200, activation='relu'))\n",
    "model.add(Dense(200, activation='relu'))\n",
    "model.add(Dense(1))\n",
    "\n",
    "model.compile(loss='mean_squared_error', optimizer='adagrad')\n",
    "\n",
    "epochs = 75\n",
    "batch_size = 128\n"
   ]
  },
  {
   "cell_type": "markdown",
   "metadata": {},
   "source": [
    "## Build the callback function that will be passed to Keras and train the model"
   ]
  },
  {
   "cell_type": "code",
   "execution_count": 9,
   "metadata": {},
   "outputs": [
    {
     "name": "stdout",
     "output_type": "stream",
     "text": [
      "Epoch 1/75\n",
      "7500/7500 [==============================] - 1s 158us/step - loss: 1.2001\n",
      "Epoch 2/75\n",
      " 256/7500 [>.............................] - ETA: 8s - loss: 0.4423"
     ]
    },
    {
     "name": "stderr",
     "output_type": "stream",
     "text": [
      "/var/root/anaconda3/lib/python3.6/site-packages/keras/callbacks.py:120: UserWarning: Method on_batch_end() is slow compared to the batch update (0.298200). Check your callbacks.\n",
      "  % delta_t_median)\n",
      "/var/root/anaconda3/lib/python3.6/site-packages/keras/callbacks.py:120: UserWarning: Method on_batch_end() is slow compared to the batch update (0.150244). Check your callbacks.\n",
      "  % delta_t_median)\n"
     ]
    },
    {
     "name": "stdout",
     "output_type": "stream",
     "text": [
      "7500/7500 [==============================] - 1s 135us/step - loss: 0.4811\n",
      "Epoch 3/75\n",
      " 384/7500 [>.............................] - ETA: 5s - loss: 0.5206"
     ]
    },
    {
     "name": "stderr",
     "output_type": "stream",
     "text": [
      "/var/root/anaconda3/lib/python3.6/site-packages/keras/callbacks.py:120: UserWarning: Method on_batch_end() is slow compared to the batch update (0.142806). Check your callbacks.\n",
      "  % delta_t_median)\n"
     ]
    },
    {
     "name": "stdout",
     "output_type": "stream",
     "text": [
      "7500/7500 [==============================] - 1s 132us/step - loss: 0.4768\n",
      "Epoch 4/75\n",
      "7500/7500 [==============================] - 1s 129us/step - loss: 0.4675\n",
      "Epoch 5/75\n",
      "7500/7500 [==============================] - 1s 130us/step - loss: 0.4591\n",
      "Epoch 6/75\n",
      "7500/7500 [==============================] - 1s 130us/step - loss: 0.4483\n",
      "Epoch 7/75\n",
      "7500/7500 [==============================] - 1s 132us/step - loss: 0.4386\n",
      "Epoch 8/75\n",
      "7500/7500 [==============================] - 1s 134us/step - loss: 0.4271\n",
      "Epoch 9/75\n",
      "7500/7500 [==============================] - 1s 132us/step - loss: 0.4153\n",
      "Epoch 10/75\n",
      "7500/7500 [==============================] - 1s 133us/step - loss: 0.4059\n",
      "Epoch 11/75\n",
      "7500/7500 [==============================] - 1s 134us/step - loss: 0.3985\n",
      "Epoch 12/75\n",
      "7500/7500 [==============================] - 1s 135us/step - loss: 0.3904\n",
      "Epoch 13/75\n",
      "7500/7500 [==============================] - 1s 134us/step - loss: 0.3822\n",
      "Epoch 14/75\n",
      "7500/7500 [==============================] - 1s 137us/step - loss: 0.3748\n",
      "Epoch 15/75\n",
      "7500/7500 [==============================] - 1s 138us/step - loss: 0.3708\n",
      "Epoch 16/75\n",
      "7500/7500 [==============================] - 1s 138us/step - loss: 0.3631\n",
      "Epoch 17/75\n",
      "7500/7500 [==============================] - 1s 134us/step - loss: 0.3540\n",
      "Epoch 18/75\n",
      "7500/7500 [==============================] - 1s 132us/step - loss: 0.3480\n",
      "Epoch 19/75\n",
      "7500/7500 [==============================] - 1s 136us/step - loss: 0.3389\n",
      "Epoch 20/75\n",
      "7500/7500 [==============================] - 1s 136us/step - loss: 0.3324\n",
      "Epoch 21/75\n",
      "7500/7500 [==============================] - 1s 97us/step - loss: 0.3258\n",
      "Epoch 22/75\n",
      " 256/7500 [>.............................] - ETA: 2:11 - loss: 0.3652"
     ]
    },
    {
     "name": "stderr",
     "output_type": "stream",
     "text": [
      "/var/root/anaconda3/lib/python3.6/site-packages/keras/callbacks.py:120: UserWarning: Method on_batch_end() is slow compared to the batch update (4.634706). Check your callbacks.\n",
      "  % delta_t_median)\n",
      "/var/root/anaconda3/lib/python3.6/site-packages/keras/callbacks.py:120: UserWarning: Method on_batch_end() is slow compared to the batch update (2.318487). Check your callbacks.\n",
      "  % delta_t_median)\n"
     ]
    },
    {
     "name": "stdout",
     "output_type": "stream",
     "text": [
      "7500/7500 [==============================] - 5s 724us/step - loss: 0.3173\n",
      "Epoch 23/75\n",
      " 384/7500 [>.............................] - ETA: 6s - loss: 0.3181"
     ]
    },
    {
     "name": "stderr",
     "output_type": "stream",
     "text": [
      "/var/root/anaconda3/lib/python3.6/site-packages/keras/callbacks.py:120: UserWarning: Method on_batch_end() is slow compared to the batch update (0.180784). Check your callbacks.\n",
      "  % delta_t_median)\n"
     ]
    },
    {
     "name": "stdout",
     "output_type": "stream",
     "text": [
      "7500/7500 [==============================] - 11s 1ms/step - loss: 0.3139\n",
      "Epoch 24/75\n",
      "7500/7500 [==============================] - 1s 155us/step - loss: 0.3032\n",
      "Epoch 25/75\n",
      "7500/7500 [==============================] - 1s 144us/step - loss: 0.2994\n",
      "Epoch 26/75\n",
      "7500/7500 [==============================] - 1s 144us/step - loss: 0.2985\n",
      "Epoch 27/75\n",
      "7500/7500 [==============================] - 1s 139us/step - loss: 0.2927\n",
      "Epoch 28/75\n",
      "7500/7500 [==============================] - 1s 138us/step - loss: 0.2848\n",
      "Epoch 29/75\n",
      "7500/7500 [==============================] - 1s 143us/step - loss: 0.2814\n",
      "Epoch 30/75\n",
      "7500/7500 [==============================] - 1s 143us/step - loss: 0.2772\n",
      "Epoch 31/75\n",
      "7500/7500 [==============================] - 1s 143us/step - loss: 0.2761\n",
      "Epoch 32/75\n",
      "7500/7500 [==============================] - 1s 143us/step - loss: 0.2768\n",
      "Epoch 33/75\n",
      "7500/7500 [==============================] - 1s 147us/step - loss: 0.2727\n",
      "Epoch 34/75\n",
      "7500/7500 [==============================] - 1s 144us/step - loss: 0.2699\n",
      "Epoch 35/75\n",
      "7500/7500 [==============================] - 1s 146us/step - loss: 0.2686\n",
      "Epoch 36/75\n",
      "7500/7500 [==============================] - 1s 162us/step - loss: 0.2714\n",
      "Epoch 37/75\n",
      "7500/7500 [==============================] - 1s 147us/step - loss: 0.2661\n",
      "Epoch 38/75\n",
      "7500/7500 [==============================] - 1s 144us/step - loss: 0.2650\n",
      "Epoch 39/75\n",
      "7500/7500 [==============================] - 1s 145us/step - loss: 0.2650\n",
      "Epoch 40/75\n",
      "7500/7500 [==============================] - 1s 148us/step - loss: 0.2647\n",
      "Epoch 41/75\n",
      "7500/7500 [==============================] - 1s 103us/step - loss: 0.2642\n",
      "Epoch 42/75\n",
      " 256/7500 [>.............................] - ETA: 9s - loss: 0.2989"
     ]
    },
    {
     "name": "stderr",
     "output_type": "stream",
     "text": [
      "/var/root/anaconda3/lib/python3.6/site-packages/keras/callbacks.py:120: UserWarning: Method on_batch_end() is slow compared to the batch update (0.342448). Check your callbacks.\n",
      "  % delta_t_median)\n",
      "/var/root/anaconda3/lib/python3.6/site-packages/keras/callbacks.py:120: UserWarning: Method on_batch_end() is slow compared to the batch update (0.172426). Check your callbacks.\n",
      "  % delta_t_median)\n"
     ]
    },
    {
     "name": "stdout",
     "output_type": "stream",
     "text": [
      "7500/7500 [==============================] - 1s 155us/step - loss: 0.2662\n",
      "Epoch 43/75\n",
      " 384/7500 [>.............................] - ETA: 6s - loss: 0.2791"
     ]
    },
    {
     "name": "stderr",
     "output_type": "stream",
     "text": [
      "/var/root/anaconda3/lib/python3.6/site-packages/keras/callbacks.py:120: UserWarning: Method on_batch_end() is slow compared to the batch update (0.169169). Check your callbacks.\n",
      "  % delta_t_median)\n"
     ]
    },
    {
     "name": "stdout",
     "output_type": "stream",
     "text": [
      "7500/7500 [==============================] - 1s 151us/step - loss: 0.2643\n",
      "Epoch 44/75\n",
      "7500/7500 [==============================] - 1s 151us/step - loss: 0.2645\n",
      "Epoch 45/75\n",
      "7500/7500 [==============================] - 1s 159us/step - loss: 0.2642\n",
      "Epoch 46/75\n",
      "7500/7500 [==============================] - 19s 3ms/step - loss: 0.2631\n",
      "Epoch 47/75\n",
      "7500/7500 [==============================] - 1s 151us/step - loss: 0.2642\n",
      "Epoch 48/75\n",
      "7500/7500 [==============================] - 1s 155us/step - loss: 0.2613\n",
      "Epoch 49/75\n",
      "7500/7500 [==============================] - 1s 156us/step - loss: 0.2634\n",
      "Epoch 50/75\n",
      "7500/7500 [==============================] - 1s 160us/step - loss: 0.2613\n",
      "Epoch 51/75\n",
      "1408/7500 [====>.........................] - ETA: 1s - loss: 0.2634"
     ]
    },
    {
     "name": "stderr",
     "output_type": "stream",
     "text": [
      "ERROR:root:Internal Python error in the inspect module.\n",
      "Below is the traceback from this internal error.\n",
      "\n"
     ]
    },
    {
     "name": "stdout",
     "output_type": "stream",
     "text": [
      "Traceback (most recent call last):\n",
      "  File \"/var/root/anaconda3/lib/python3.6/site-packages/IPython/core/interactiveshell.py\", line 2862, in run_code\n",
      "    exec(code_obj, self.user_global_ns, self.user_ns)\n",
      "  File \"<ipython-input-9-47a0c3a37558>\", line 17, in <module>\n",
      "    model.fit(X_train, y_train, epochs=epochs, batch_size=batch_size, callbacks=[redraw_callback])\n",
      "  File \"/var/root/anaconda3/lib/python3.6/site-packages/keras/models.py\", line 963, in fit\n",
      "    validation_steps=validation_steps)\n",
      "  File \"/var/root/anaconda3/lib/python3.6/site-packages/keras/engine/training.py\", line 1705, in fit\n",
      "    validation_steps=validation_steps)\n",
      "  File \"/var/root/anaconda3/lib/python3.6/site-packages/keras/engine/training.py\", line 1241, in _fit_loop\n",
      "    callbacks.on_batch_end(batch_index, batch_logs)\n",
      "  File \"/var/root/anaconda3/lib/python3.6/site-packages/keras/callbacks.py\", line 113, in on_batch_end\n",
      "    callback.on_batch_end(batch, logs)\n",
      "  File \"/Users/alipeles/GoogleDrive/Jupyter Notebooks/LendingClub/KerasTrainingVisualization/kerviz.py\", line 177, in redraw\n",
      "    y_pred = model.predict(X).reshape(-1)\n",
      "  File \"/var/root/anaconda3/lib/python3.6/site-packages/keras/models.py\", line 1025, in predict\n",
      "    steps=steps)\n",
      "  File \"/var/root/anaconda3/lib/python3.6/site-packages/keras/engine/training.py\", line 1835, in predict\n",
      "    verbose=verbose, steps=steps)\n",
      "  File \"/var/root/anaconda3/lib/python3.6/site-packages/keras/engine/training.py\", line 1330, in _predict_loop\n",
      "    batch_outs = f(ins_batch)\n",
      "  File \"/var/root/anaconda3/lib/python3.6/site-packages/keras/backend/tensorflow_backend.py\", line 2478, in __call__\n",
      "    **self.session_kwargs)\n",
      "  File \"/var/root/anaconda3/lib/python3.6/site-packages/tensorflow/python/client/session.py\", line 905, in run\n",
      "    run_metadata_ptr)\n",
      "  File \"/var/root/anaconda3/lib/python3.6/site-packages/tensorflow/python/client/session.py\", line 1137, in _run\n",
      "    feed_dict_tensor, options, run_metadata)\n",
      "  File \"/var/root/anaconda3/lib/python3.6/site-packages/tensorflow/python/client/session.py\", line 1355, in _do_run\n",
      "    options, run_metadata)\n",
      "  File \"/var/root/anaconda3/lib/python3.6/site-packages/tensorflow/python/client/session.py\", line 1361, in _do_call\n",
      "    return fn(*args)\n",
      "  File \"/var/root/anaconda3/lib/python3.6/site-packages/tensorflow/python/client/session.py\", line 1340, in _run_fn\n",
      "    target_list, status, run_metadata)\n",
      "KeyboardInterrupt\n",
      "\n",
      "During handling of the above exception, another exception occurred:\n",
      "\n",
      "Traceback (most recent call last):\n",
      "  File \"/var/root/anaconda3/lib/python3.6/site-packages/IPython/core/interactiveshell.py\", line 1806, in showtraceback\n",
      "    stb = value._render_traceback_()\n",
      "AttributeError: 'KeyboardInterrupt' object has no attribute '_render_traceback_'\n",
      "\n",
      "During handling of the above exception, another exception occurred:\n",
      "\n",
      "Traceback (most recent call last):\n",
      "  File \"/var/root/anaconda3/lib/python3.6/site-packages/IPython/core/ultratb.py\", line 1090, in get_records\n",
      "    return _fixed_getinnerframes(etb, number_of_lines_of_context, tb_offset)\n",
      "  File \"/var/root/anaconda3/lib/python3.6/site-packages/IPython/core/ultratb.py\", line 311, in wrapped\n",
      "    return f(*args, **kwargs)\n",
      "  File \"/var/root/anaconda3/lib/python3.6/site-packages/IPython/core/ultratb.py\", line 345, in _fixed_getinnerframes\n",
      "    records = fix_frame_records_filenames(inspect.getinnerframes(etb, context))\n",
      "  File \"/var/root/anaconda3/lib/python3.6/inspect.py\", line 1480, in getinnerframes\n",
      "    frameinfo = (tb.tb_frame,) + getframeinfo(tb, context)\n",
      "  File \"/var/root/anaconda3/lib/python3.6/inspect.py\", line 1438, in getframeinfo\n",
      "    filename = getsourcefile(frame) or getfile(frame)\n",
      "  File \"/var/root/anaconda3/lib/python3.6/inspect.py\", line 693, in getsourcefile\n",
      "    if getattr(getmodule(object, filename), '__loader__', None) is not None:\n",
      "  File \"/var/root/anaconda3/lib/python3.6/inspect.py\", line 739, in getmodule\n",
      "    os.path.realpath(f)] = module.__name__\n",
      "  File \"/var/root/anaconda3/lib/python3.6/posixpath.py\", line 386, in realpath\n",
      "    path, ok = _joinrealpath(filename[:0], filename, {})\n",
      "  File \"/var/root/anaconda3/lib/python3.6/posixpath.py\", line 419, in _joinrealpath\n",
      "    newpath = join(path, name)\n",
      "  File \"/var/root/anaconda3/lib/python3.6/posixpath.py\", line 78, in join\n",
      "    a = os.fspath(a)\n",
      "KeyboardInterrupt\n"
     ]
    },
    {
     "ename": "KeyboardInterrupt",
     "evalue": "",
     "output_type": "error",
     "traceback": [
      "\u001b[0;31m---------------------------------------------------------------------------\u001b[0m"
     ]
    }
   ],
   "source": [
    "from keras.callbacks import LambdaCallback\n",
    "\n",
    "# get closured redraw callback function\n",
    "# this will also draw the background for the graph\n",
    "cb_redraw = get_redraw( X_train, y_train, model, batch_size, epochs,\n",
    "                        frequency=20, graph_sparsity=1,\n",
    "                        scatter_sparsity=1, show_err=True, err_smoothing=201,\n",
    "                        title=\"Neural Network Fitting Complex Function\",\n",
    "                        x_label=\"x\",\n",
    "                        y_label=\"f(x)\",\n",
    "                        loss_scale=0.8, display_mode='screen')\n",
    "\n",
    "# wrap callback function in Keras structure, to be called after each batch\n",
    "redraw_callback = LambdaCallback(on_batch_end=cb_redraw)\n",
    "\n",
    "# train the model, passing the Keras-wrapped callback function\n",
    "model.fit(X_train, y_train, epochs=epochs, batch_size=batch_size, callbacks=[redraw_callback])"
   ]
  },
  {
   "cell_type": "code",
   "execution_count": null,
   "metadata": {
    "collapsed": true
   },
   "outputs": [],
   "source": []
  }
 ],
 "metadata": {
  "kernelspec": {
   "display_name": "Python 3",
   "language": "python",
   "name": "python3"
  },
  "language_info": {
   "codemirror_mode": {
    "name": "ipython",
    "version": 3
   },
   "file_extension": ".py",
   "mimetype": "text/x-python",
   "name": "python",
   "nbconvert_exporter": "python",
   "pygments_lexer": "ipython3",
   "version": "3.6.3"
  }
 },
 "nbformat": 4,
 "nbformat_minor": 2
}
